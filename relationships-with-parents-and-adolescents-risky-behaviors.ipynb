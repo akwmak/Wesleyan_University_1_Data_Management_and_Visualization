{
 "cells": [
  {
   "cell_type": "code",
   "execution_count": 39,
   "metadata": {
    "collapsed": true
   },
   "outputs": [],
   "source": [
    "import pandas as pd\n",
    "import numpy as np"
   ]
  },
  {
   "cell_type": "code",
   "execution_count": 40,
   "metadata": {
    "collapsed": false
   },
   "outputs": [
    {
     "name": "stdout",
     "output_type": "stream",
     "text": [
      "There are 6504 rows and 2829 columns\n"
     ]
    }
   ],
   "source": [
    "# Read data from addHealth Wave I dataset\n",
    "data = pd.read_csv('addhealth_pds.csv', low_memory=False)\n",
    "\n",
    "print(\"There are {0} rows and {1} columns\".format(data.shape[0], data.shape[1]))"
   ]
  },
  {
   "cell_type": "code",
   "execution_count": 41,
   "metadata": {
    "collapsed": false
   },
   "outputs": [],
   "source": [
    "%matplotlib inline\n",
    "\n",
    "import seaborn as sns\n",
    "import matplotlib.pyplot as plt\n",
    "from matplotlib import rcParams\n",
    "rcParams.update({'figure.autolayout': True})\n",
    "\n",
    "from collections import OrderedDict"
   ]
  },
  {
   "cell_type": "code",
   "execution_count": 42,
   "metadata": {
    "collapsed": false
   },
   "outputs": [],
   "source": [
    "class AnalysisBase(object):\n",
    "    \"\"\"\n",
    "    Base class for initializing data, settings and cleaning data\n",
    "\n",
    "    Parameters\n",
    "    ----------\n",
    "    dataset : string\n",
    "        File name of the dataset.\n",
    "    usecols : list\n",
    "        List of column names that are of interests.\n",
    "    debug : boolean\n",
    "        Print extra data for debug purpose.\n",
    "    input_var : dict\n",
    "        Key-Value pairs used as input variables.\n",
    "        Key, description of column.\n",
    "        Value, column code used in original dataset.\n",
    "    output_var : dict\n",
    "        Key-Value pairs used as output variables.\n",
    "        Key, description of column.\n",
    "        Value, column code used in original dataset.\n",
    "    \"\"\"\n",
    "    def __init__(self, dataset, usecols=None, debug=False, input_var=None, output_var=None):\n",
    "        \n",
    "        if usecols:\n",
    "            self.data = pd.read_csv(dataset, usecols=['H1TO35', 'H1WP8', 'H1PF1', 'H1PF23',\n",
    "                                                      'AID', 'H1CO1', 'H1CO3', 'H1CO6'])\n",
    "        else:\n",
    "            self.data = pd.read_csv(dataset)\n",
    "        self.debug = debug\n",
    "        self.input_var = input_var\n",
    "        self.output_var = output_var\n",
    "\n",
    "        # Construct cleaned dataset, with with columns that are of interests and readable column labels \n",
    "        self.cleaned_data = self.construct_dataset()\n",
    "\n",
    "    def loving_parents(self, row):\n",
    "        \"\"\"\n",
    "        Used to categorize parents showing love.\n",
    "        \n",
    "        In the original dataset, there are 2 columns, \n",
    "        \"Most of the time, your mother is warm and loving toward you.\", \n",
    "        \"Most of the time, your father is warm and loving toward you.\". \n",
    "        Their mappings are as followed:\n",
    "        1 => strongly agree\n",
    "        2 => agree\n",
    "        3 => neither agree nor disagree\n",
    "        4 => disagree\n",
    "        5 => strongly disagree\n",
    "        6 => refused\n",
    "        7 => legitimate skip (no resident MOM)\n",
    "        8 => don't know\n",
    "        \n",
    "        Scores and categories are listed below:\n",
    "            - Scores for both mother and father that are less than and equal to 2\n",
    "                are categorized as \"agree to feel love from parent\".\n",
    "            - Scores for both mother and father that are 3\n",
    "                are categorized as \"neutral to feel love from parent\".\n",
    "            - Scores for both mother and father that are between 4 and 5\n",
    "                are categorized as \"neutral to feel love from parent\".\n",
    "                \n",
    "        Returns\n",
    "        -------\n",
    "        string: string\n",
    "            Label used to describe how adolescents feel if they have \"loving_parents\"\n",
    "\n",
    "        \"\"\"\n",
    "        if (row[\"mother_is_warm_loving\"] <= 2) & (row[\"father_is_warm_loving\"] <= 2):\n",
    "            return \"1-AGREE\"\n",
    "        elif (row[\"mother_is_warm_loving\"] == 3) & (row[\"father_is_warm_loving\"] == 3):\n",
    "            return \"2-NEUTRAL\"\n",
    "        elif (row[\"mother_is_warm_loving\"] >= 4) & (row[\"mother_is_warm_loving\"] <= 5) &\\\n",
    "                (row[\"father_is_warm_loving\"] >= 4) & (row[\"father_is_warm_loving\"] <= 5):\n",
    "            return \"3-DISAGREE\"\n",
    "        \n",
    "    def construct_dataset(self):\n",
    "        \"\"\"\n",
    "        Construct dataset. Change column codes to readable labels.\n",
    "        Use data that have responds: \"yes\", \"no\" to \"Have you ever had sexual intercourse?\".\n",
    "        Categorize loving parent and cocaine usage.\n",
    "        \n",
    "        Returns\n",
    "        -------\n",
    "        cleaned_data: Pandas Dataframe\n",
    "            Cleaned dataset with readable labels\n",
    "\n",
    "        \"\"\"\n",
    "        if self.debug:\n",
    "            print(\"Before cleaning the data...\\nNumber of {} rows\".format(self.data.shape[0]))\n",
    "            print(\"Number of {} columns\\n\".format(self.data.shape[1]))\n",
    "            \n",
    "        # Drop NAN data\n",
    "        self.data.fillna(np.nan)\n",
    "        if self.debug:\n",
    "            print(\"After dropping NAN...\\nNumber of {} rows\".format(self.data.shape[0]))\n",
    "            print(\"Number of {} columns\\n\".format(self.data.shape[1]))\n",
    "            \n",
    "        # AID is the id (index) of the dataset\n",
    "        self.cleaned_data = self.data[[\"AID\"]].copy()\n",
    "        # Update to use readable column labels\n",
    "        for k, v in self.output_var.items():\n",
    "            self.cleaned_data[k] = self.data[v].copy()\n",
    "            # Make sure data are numeric\n",
    "            self.cleaned_data[k] = pd.to_numeric(self.cleaned_data[k])\n",
    "        for k, v in self.input_var.items():\n",
    "            self.cleaned_data[k] = self.data[v].copy()\n",
    "            # Make sure data are numeric\n",
    "            self.cleaned_data[k] = pd.to_numeric(self.cleaned_data[k])\n",
    "\n",
    "        # Use records that have responses: \"yes\" or \"no\" to having sexual experience\n",
    "        self.cleaned_data = self.cleaned_data[(self.cleaned_data.had_sexual_intercourse <= 1)]\n",
    "        self.cleaned_data[\"loving_parents\"] = self.cleaned_data.apply(lambda row: self.loving_parents(row), axis=1)\n",
    "        \n",
    "        # Categorize Cocaine usage, 1: at least once, 0: Never\n",
    "        # There is no 0 in the original dataest column H1TO35\n",
    "        self.cleaned_data[\"USED_COCAINE\"] = pd.cut(self.cleaned_data.use_cocaine_freq, [0, 995, 999], labels=[1, 0])\n",
    "        self.cleaned_data[\"USED_COCAINE\"] = pd.to_numeric(self.cleaned_data[\"USED_COCAINE\"])\n",
    "        self.cleaned_data = self.cleaned_data.dropna()\n",
    "        \n",
    "        if self.debug:\n",
    "            print(\"After cleaning...\\nNumber of {} rows\".format(self.cleaned_data.shape[0]))\n",
    "            print(\"Number of {} columns\\n\".format(self.cleaned_data.shape[1]))\n",
    "    \n",
    "        return self.cleaned_data"
   ]
  },
  {
   "cell_type": "code",
   "execution_count": 43,
   "metadata": {
    "collapsed": false
   },
   "outputs": [
    {
     "name": "stdout",
     "output_type": "stream",
     "text": [
      "Before cleaning the data...\n",
      "Number of 6504 rows\n",
      "Number of 8 columns\n",
      "\n",
      "After dropping NAN...\n",
      "Number of 6504 rows\n",
      "Number of 8 columns\n",
      "\n",
      "After cleaning...\n",
      "Number of 3465 rows\n",
      "Number of 10 columns\n",
      "\n"
     ]
    }
   ],
   "source": [
    "input_var = {\"no_of_evening_meal_with_1_parent_past_7_days\": \"H1WP8\",\n",
    "             \"mother_is_warm_loving\": \"H1PF1\",\n",
    "             \"father_is_warm_loving\": \"H1PF23\"}\n",
    "\n",
    "output_var = {\"had_sexual_intercourse\": \"H1CO1\",\n",
    "              \"used_birth_control_first_time\": \"H1CO3\",\n",
    "              \"used_birth_control_most_recently\": \"H1CO6\",\n",
    "              \"use_cocaine_freq\": \"H1TO35\"}\n",
    "\n",
    "\n",
    "base_test = AnalysisBase(\"addhealth_pds.csv\",\n",
    "                         usecols=['H1TO35', 'H1WP8', 'H1PF1', 'H1PF23', 'AID', 'H1CO1', 'H1CO3', 'H1CO6'],\n",
    "                         debug=True,\n",
    "                         input_var=input_var,\n",
    "                         output_var=output_var)"
   ]
  },
  {
   "cell_type": "code",
   "execution_count": 44,
   "metadata": {
    "collapsed": false
   },
   "outputs": [
    {
     "name": "stdout",
     "output_type": "stream",
     "text": [
      "        AID  H1WP8  H1PF1  H1PF23  H1CO1  H1CO3  H1CO6  H1TO35\n",
      "0  57100270      7      1       2      1      1      1     997\n",
      "1  57101310      7      1       1      1      0      0     997\n",
      "2  57103171      7      1       1      0      7      7     997\n",
      "3  57103869      7      2       7      1      1      1     998\n",
      "4  57104553      7      2       7      1      0      0     997\n",
      "        AID  used_birth_control_most_recently  had_sexual_intercourse  \\\n",
      "0  57100270                                 1                       1   \n",
      "1  57101310                                 0                       1   \n",
      "2  57103171                                 7                       0   \n",
      "5  57104649                                 7                       0   \n",
      "6  57104676                                 7                       0   \n",
      "\n",
      "   use_cocaine_freq  used_birth_control_first_time  father_is_warm_loving  \\\n",
      "0               997                              1                      2   \n",
      "1               997                              0                      1   \n",
      "2               997                              7                      1   \n",
      "5               997                              7                      1   \n",
      "6               997                              7                      2   \n",
      "\n",
      "   mother_is_warm_loving  no_of_evening_meal_with_1_parent_past_7_days  \\\n",
      "0                      1                                             7   \n",
      "1                      1                                             7   \n",
      "2                      1                                             7   \n",
      "5                      1                                             5   \n",
      "6                      1                                             7   \n",
      "\n",
      "  loving_parents  USED_COCAINE  \n",
      "0        1-AGREE             0  \n",
      "1        1-AGREE             0  \n",
      "2        1-AGREE             0  \n",
      "5        1-AGREE             0  \n",
      "6        1-AGREE             0  \n"
     ]
    }
   ],
   "source": [
    "print(base_test.data.head())\n",
    "print(base_test.cleaned_data.head())"
   ]
  },
  {
   "cell_type": "code",
   "execution_count": 45,
   "metadata": {
    "collapsed": false
   },
   "outputs": [],
   "source": [
    "class AdolescentsAnalysis(AnalysisBase):\n",
    "    \"\"\"\n",
    "    Analysis of how adolescent feels about their parents and their risky behaviors.\n",
    "\n",
    "    Parameters\n",
    "    ----------\n",
    "    dataset : string\n",
    "        File name of the dataset.\n",
    "    usecols : list\n",
    "        List of column names that are of interests.\n",
    "    debug : boolean\n",
    "        Print extra data for debug purpose.\n",
    "    input_var : dict\n",
    "        Key-Value pairs used as input variables.\n",
    "        Key, description of column.\n",
    "        Value, column code used in original dataset.\n",
    "    output_var : dict\n",
    "        Key-Value pairs used as output variables.\n",
    "        Key, description of column.\n",
    "        Value, column code used in original dataset.\n",
    "\n",
    "    See also\n",
    "    --------\n",
    "    AnalysisBase\n",
    "        Base class for initializing data, settings and cleaning data\n",
    "    \"\"\"\n",
    "    \n",
    "    def __init__(self, dataset, usecols=None, debug=False, input_var=None, output_var=None):\n",
    "        super().__init__(dataset, usecols=usecols, debug=debug, input_var=input_var, output_var=output_var)\n",
    "        \n",
    "        self.adolescent_feelings = OrderedDict([\n",
    "                                    (\"1-AGREE\", \"\\nAdolescents agree both parents are loving\"),\n",
    "                                    (\"2-NEUTRAL\", \"\\nAdolescents neither agree nor disagree both parents are loving\"),\n",
    "                                    (\"3-DISAGREE\", \"\\nAdolescents disagree both parents are loving\")])\n",
    "\n",
    "    def print_group_stat(self, x_vars, y, debug=False):\n",
    "        \"\"\"\n",
    "        Calculate percentages of each category x_vars against y from the dataset.\n",
    "\n",
    "        Parameters\n",
    "        ----------\n",
    "        x_vars : Dict\n",
    "            Key, categories of how adolescents feel about having loving parents, e.g.\n",
    "                1-AGREE, 2-NEUTRAL, 3-DISAGREE.\n",
    "            Value, Description of the key.\n",
    "        y : String\n",
    "            Column Label of dataset.\n",
    "        debug : Boolean\n",
    "            Print extra data for debug purpose.\n",
    "\n",
    "        Returns\n",
    "        -------\n",
    "        None\n",
    "\n",
    "        \"\"\"\n",
    "        if not debug:\n",
    "            debug = self.debug\n",
    "        # Loop through each x category, 1-AGREE, 2-NEUTRAL, 3-DISAGREE\n",
    "        for k, v in x_vars.items():\n",
    "            print(v, \"(0: No, 1: Yes)\\n\")\n",
    "            subset = self.cleaned_data.copy()\n",
    "            subset = subset[subset[\"loving_parents\"] == k]\n",
    "            \n",
    "            # use data that has \"yes\" or \"no\" to y variable\n",
    "            subset = subset[(subset[y] <= 1)]\n",
    "            print(subset.shape) if debug else False\n",
    "                \n",
    "            # find the freq of \"yes\" and \"no\" of y variable of each category\n",
    "            print(subset[y].value_counts(normalize=True).sort_index())\n",
    "            print()\n",
    "        \n",
    "    def graph_bar_chart(self, dataset, x_independent_var, y_dependent_var, x_label, y_label, title, filename=None):\n",
    "        \"\"\"\n",
    "        Draw a categorical bar chart.\n",
    "        Save the graph optionally if filename is supplied.\n",
    "\n",
    "        Parameters\n",
    "        ----------\n",
    "        dataset : Pandas DataFrame\n",
    "            Cleaned dataset.\n",
    "        x_independent_var : String\n",
    "            Column Label for x variable.\n",
    "        y_dependent_var : String\n",
    "            Column Label for y variable.\n",
    "        x_label : String\n",
    "            Description for x axis.\n",
    "        y_label : String\n",
    "            Description for y axis.\n",
    "        title : String\n",
    "            Title of the graph.\n",
    "        filename : String\n",
    "            File name used for saving the plot.\n",
    "            \n",
    "        Returns\n",
    "        -------\n",
    "        None\n",
    "        \"\"\"\n",
    "        g = sns.factorplot(y=y_dependent_var, x=x_independent_var, data=dataset, kind=\"bar\", ci=None, size=7, aspect=1)\n",
    "        plt.xlabel(x_label)\n",
    "        plt.ylabel(y_label)\n",
    "        plt.title(title)\n",
    "        if filename:\n",
    "            g.savefig(filename, dpi=300)\n",
    "            \n",
    "    def adolescents_feel_vs_sex_in_the_past(self, filename=None, debug=False):\n",
    "        \"\"\"\n",
    "        This function is to explore the relative frequencies related to the following question:\n",
    "            How the adolescent feel about his/her parent \n",
    "                vs \n",
    "            if he/she engaged in sexual intercourse (H1CO1)?\n",
    "        A bar chart is also created to help for visualization.\n",
    "\n",
    "        Parameters\n",
    "        ----------\n",
    "        filename : String\n",
    "            Filename for saving graph to disk.\n",
    "        debug : Boolean\n",
    "            Print extra data for debug purpose.\n",
    "            \n",
    "        Returns\n",
    "        -------\n",
    "        None\n",
    "        \"\"\"\n",
    "        if not debug:\n",
    "            debug = self.debug\n",
    "        x_independent_var = \"loving_parents\"\n",
    "        y_dependent_var = \"had_sexual_intercourse\"\n",
    "        \n",
    "        x_vars = OrderedDict(((k, v + \", and had sex in the past\")\n",
    "                              for k, v in self.adolescent_feelings.items()))\n",
    "        self.print_group_stat(x_vars, y_dependent_var, debug)\n",
    "        \n",
    "        subset = self.cleaned_data.copy()\n",
    "        subset[x_independent_var] = subset[x_independent_var].astype(\"category\")\n",
    "        # consider data that has \"yes\" or \"no\" to column \"had_sexual_intercourse\"\n",
    "        subset = subset[(subset[y_dependent_var] <= 1)]\n",
    "        \n",
    "        # Graph a bar chart of the relationship\n",
    "        x_label = \"Adolescents feel love from both parents\"\n",
    "        y_label = \"Adolescents had sexual intercourse\"\n",
    "        title = \"Adolescent's Relationship with Parents\\nvs\\nHad Sexual Intercourse Experience\"\n",
    "        self.graph_bar_chart(subset, x_independent_var, y_dependent_var,\n",
    "                             x_label, y_label, title, filename)\n",
    "\n",
    "    def adolescents_feel_vs_use_birth_control_the_first_time(self, filename=None, debug=False):\n",
    "        \"\"\"\n",
    "        This function is to explore the relative frequencies related to the following question:\n",
    "            How the adolescent feel about his/her parent \n",
    "                vs \n",
    "            if he/she used any method of birth control the first time he/she had sexual intercourse (H1CO3)?\n",
    "        A bar chart is also created to help for visualization.\n",
    "\n",
    "        Parameters\n",
    "        ----------\n",
    "        filename : String\n",
    "            Filename for saving graph to disk.\n",
    "        debug : Boolean\n",
    "            Print extra data for debug purpose.\n",
    "            \n",
    "        Returns\n",
    "        -------\n",
    "        None\n",
    "        \"\"\"\n",
    "        if not debug:\n",
    "            debug = self.debug\n",
    "        x_independent_var = \"loving_parents\"\n",
    "        y_dependent_var = \"used_birth_control_first_time\"\n",
    "        \n",
    "        x_vars = OrderedDict(((k, v + \", and used birth control during first time sex\")\n",
    "                              for k, v in self.adolescent_feelings.items()))\n",
    "        self.print_group_stat(x_vars, y_dependent_var, debug)\n",
    "        \n",
    "        subset = self.cleaned_data.copy()\n",
    "        subset[x_independent_var] = subset[x_independent_var].astype(\"category\")\n",
    "        # consider data that has \"yes\" or \"no\" to column \"used_birth_control_first_time\"\n",
    "        subset = subset[(subset[y_dependent_var] <= 1)]\n",
    "        \n",
    "        # Graph a bar chart of the relationship\n",
    "        x_label = \"Adolescents feel love from both parents\"\n",
    "        y_label = \"Adolescents used birth control during first time sex\"\n",
    "        title = \"Adolescent's Relationship with Parents\\nvs\\nBirth Control during First Time Sex\"\n",
    "        self.graph_bar_chart(subset, x_independent_var, y_dependent_var,\n",
    "                             x_label, y_label, title, filename)\n",
    "        \n",
    "    def adolescents_feel_vs_use_birth_control_recently(self, filename=None, debug=False):\n",
    "        \"\"\"\n",
    "        This function is to explore the relative frequencies related to the following question:\n",
    "            How the adolescent feel about his/her parent \n",
    "                vs \n",
    "            if he/she used any method of birth control during recent sex (H1CO6)?\n",
    "        A bar chart is also created to help for visualization.\n",
    "\n",
    "        Parameters\n",
    "        ----------\n",
    "        filename : String\n",
    "            Filename for saving graph to disk.\n",
    "        debug : Boolean\n",
    "            Print extra data for debug purpose.\n",
    "            \n",
    "        Returns\n",
    "        -------\n",
    "        None\n",
    "        \"\"\"\n",
    "        if not debug:\n",
    "            debug = self.debug\n",
    "        x_independent_var = \"loving_parents\"\n",
    "        y_dependent_var = \"used_birth_control_most_recently\"\n",
    "        \n",
    "        x_vars = OrderedDict(((k, v + \", and used birth control during recent sex\")\n",
    "                              for k, v in self.adolescent_feelings.items()))\n",
    "        self.print_group_stat(x_vars, y_dependent_var, debug)\n",
    "        \n",
    "        subset = self.cleaned_data.copy()\n",
    "        subset[x_independent_var] = subset[x_independent_var].astype(\"category\")\n",
    "        # consider data that has \"yes\" or \"no\" to column \"used_birth_control_most_recently\"\n",
    "        subset = subset[(subset[y_dependent_var] <= 1)]\n",
    "        \n",
    "        # Graph a bar chart of the relationship\n",
    "        x_label = \"Adolescents feel love from both parents\"\n",
    "        y_label = \"Adolescents used birth control during recent sex\"\n",
    "        title = \"Adolescent's Relationship with Parents\\nvs\\nBirth Control During Recent Sex\"\n",
    "        self.graph_bar_chart(subset, x_independent_var, y_dependent_var,\n",
    "                             x_label, y_label, title, filename)\n",
    "        \n",
    "    # How Adolescents feel vs cocaine usage\n",
    "    def adolescents_feel_vs_cocaine_usage(self, filename=None, debug=False):\n",
    "        \"\"\"\n",
    "        This function is to explore the relative frequencies related to the following question:\n",
    "            How the adolescent feel about his/her parent \n",
    "                vs \n",
    "            if he/she used cocaine at least once before (H1TO35)?\n",
    "        A bar chart is also created to help for visualization.\n",
    "\n",
    "        Parameters\n",
    "        ----------\n",
    "        filename : String\n",
    "            Filename for saving graph to disk.\n",
    "        debug : Boolean\n",
    "            Print extra data for debug purpose.\n",
    "            \n",
    "        Returns\n",
    "        -------\n",
    "        None\n",
    "        \"\"\"\n",
    "        \n",
    "        \"\"\" Adolescents feel love and warmth from both parents: 1-AGREE, 2-NEUTRAL, 3-DISAGREE\n",
    "            vs\n",
    "            Adolescents used cocaine at least once\n",
    "        \"\"\"\n",
    "        if not debug:\n",
    "            debug = self.debug\n",
    "        x_independent_var = \"loving_parents\"\n",
    "        y_dependent_var = \"USED_COCAINE\"\n",
    "        \n",
    "        x_vars = OrderedDict(((k, v + \", and used cocaine in the past\")\n",
    "                              for k, v in self.adolescent_feelings.items()))\n",
    "        \n",
    "        # Print the freq stat\n",
    "        self.print_group_stat(x_vars, y_dependent_var, debug)\n",
    "        \n",
    "        # Make a subset\n",
    "        subset = self.cleaned_data.copy()\n",
    "        subset[x_independent_var] = subset[x_independent_var].astype(\"category\")\n",
    "        \n",
    "        # Graph a bar chart of the relationship\n",
    "        x_label = \"Adolescents feel love from both parents\"\n",
    "        y_label = \"Adolescents used cocaine in the past\"\n",
    "        title = \"Adolescent's Relationship with Parents\\nvs\\nUsed Cocaine in the Past\"\n",
    "        self.graph_bar_chart(subset, x_independent_var, y_dependent_var,\n",
    "                             x_label, y_label, title, filename)\n",
    "        "
   ]
  },
  {
   "cell_type": "code",
   "execution_count": 46,
   "metadata": {
    "collapsed": true
   },
   "outputs": [],
   "source": [
    "import warnings\n",
    "warnings.filterwarnings('ignore')"
   ]
  },
  {
   "cell_type": "code",
   "execution_count": 47,
   "metadata": {
    "collapsed": false
   },
   "outputs": [],
   "source": [
    "input_var = {\"no_of_evening_meal_with_1_parent_past_7_days\": \"H1WP8\",\n",
    "             \"mother_is_warm_loving\": \"H1PF1\",\n",
    "             \"father_is_warm_loving\": \"H1PF23\"}\n",
    "\n",
    "output_var = {\"had_sexual_intercourse\": \"H1CO1\",\n",
    "              \"used_birth_control_first_time\": \"H1CO3\",\n",
    "              \"used_birth_control_most_recently\": \"H1CO6\",\n",
    "              \"use_cocaine_freq\": \"H1TO35\"}\n",
    "\n",
    "adolescents_analysis = AdolescentsAnalysis(\"addhealth_pds.csv\",\n",
    "                                           usecols=['H1TO35', 'H1WP8', 'H1PF1', 'H1PF23', 'AID',\n",
    "                                                    'H1CO1', 'H1CO3', 'H1CO6'],\n",
    "                                           debug=False,\n",
    "                                           input_var=input_var,\n",
    "                                           output_var=output_var)"
   ]
  },
  {
   "cell_type": "code",
   "execution_count": 48,
   "metadata": {
    "collapsed": false,
    "scrolled": false
   },
   "outputs": [
    {
     "name": "stdout",
     "output_type": "stream",
     "text": [
      "\n",
      "Adolescents agree both parents are loving, and had sex in the past (0: No, 1: Yes)\n",
      "\n",
      "0    0.701943\n",
      "1    0.298057\n",
      "Name: had_sexual_intercourse, dtype: float64\n",
      "\n",
      "\n",
      "Adolescents neither agree nor disagree both parents are loving, and had sex in the past (0: No, 1: Yes)\n",
      "\n",
      "0    0.430556\n",
      "1    0.569444\n",
      "Name: had_sexual_intercourse, dtype: float64\n",
      "\n",
      "\n",
      "Adolescents disagree both parents are loving, and had sex in the past (0: No, 1: Yes)\n",
      "\n",
      "0    0.458333\n",
      "1    0.541667\n",
      "Name: had_sexual_intercourse, dtype: float64\n",
      "\n"
     ]
    },
    {
     "data": {
      "image/png": "[encoded data removed]",
      "text/plain": [
       "<matplotlib.figure.Figure at 0x7f425f026320>"
      ]
     },
     "metadata": {},
     "output_type": "display_data"
    }
   ],
   "source": [
    "adolescents_analysis.adolescents_feel_vs_sex_in_the_past()"
   ]
  },
  {
   "cell_type": "code",
   "execution_count": 49,
   "metadata": {
    "collapsed": false,
    "scrolled": false
   },
   "outputs": [
    {
     "name": "stdout",
     "output_type": "stream",
     "text": [
      "\n",
      "Adolescents agree both parents are loving, and used birth control during first time sex (0: No, 1: Yes)\n",
      "\n",
      "0    0.291919\n",
      "1    0.708081\n",
      "Name: used_birth_control_first_time, dtype: float64\n",
      "\n",
      "\n",
      "Adolescents neither agree nor disagree both parents are loving, and used birth control during first time sex (0: No, 1: Yes)\n",
      "\n",
      "0    0.536585\n",
      "1    0.463415\n",
      "Name: used_birth_control_first_time, dtype: float64\n",
      "\n",
      "\n",
      "Adolescents disagree both parents are loving, and used birth control during first time sex (0: No, 1: Yes)\n",
      "\n",
      "0    0.384615\n",
      "1    0.615385\n",
      "Name: used_birth_control_first_time, dtype: float64\n",
      "\n"
     ]
    },
    {
     "data": {
      "image/png": "[encoded data removed]",
      "text/plain": [
       "<matplotlib.figure.Figure at 0x7f425efc2d30>"
      ]
     },
     "metadata": {},
     "output_type": "display_data"
    }
   ],
   "source": [
    "adolescents_analysis.adolescents_feel_vs_use_birth_control_the_first_time()"
   ]
  },
  {
   "cell_type": "code",
   "execution_count": 50,
   "metadata": {
    "collapsed": false
   },
   "outputs": [
    {
     "name": "stdout",
     "output_type": "stream",
     "text": [
      "\n",
      "Adolescents agree both parents are loving, and used birth control during recent sex (0: No, 1: Yes)\n",
      "\n",
      "0    0.291539\n",
      "1    0.708461\n",
      "Name: used_birth_control_most_recently, dtype: float64\n",
      "\n",
      "\n",
      "Adolescents neither agree nor disagree both parents are loving, and used birth control during recent sex (0: No, 1: Yes)\n",
      "\n",
      "0    0.390244\n",
      "1    0.609756\n",
      "Name: used_birth_control_most_recently, dtype: float64\n",
      "\n",
      "\n",
      "Adolescents disagree both parents are loving, and used birth control during recent sex (0: No, 1: Yes)\n",
      "\n",
      "0    0.384615\n",
      "1    0.615385\n",
      "Name: used_birth_control_most_recently, dtype: float64\n",
      "\n"
     ]
    },
    {
     "data": {
      "image/png": "[encoded data removed]",
      "text/plain": [
       "<matplotlib.figure.Figure at 0x7f4274fca4e0>"
      ]
     },
     "metadata": {},
     "output_type": "display_data"
    }
   ],
   "source": [
    "adolescents_analysis.adolescents_feel_vs_use_birth_control_recently()"
   ]
  },
  {
   "cell_type": "code",
   "execution_count": 51,
   "metadata": {
    "collapsed": false
   },
   "outputs": [
    {
     "name": "stdout",
     "output_type": "stream",
     "text": [
      "\n",
      "Adolescents agree both parents are loving, and used cocaine in the past (0: No, 1: Yes)\n",
      "\n",
      "0    0.984454\n",
      "1    0.015546\n",
      "Name: USED_COCAINE, dtype: float64\n",
      "\n",
      "\n",
      "Adolescents neither agree nor disagree both parents are loving, and used cocaine in the past (0: No, 1: Yes)\n",
      "\n",
      "0    0.958333\n",
      "1    0.041667\n",
      "Name: USED_COCAINE, dtype: float64\n",
      "\n",
      "\n",
      "Adolescents disagree both parents are loving, and used cocaine in the past (0: No, 1: Yes)\n",
      "\n",
      "0    0.916667\n",
      "1    0.083333\n",
      "Name: USED_COCAINE, dtype: float64\n",
      "\n"
     ]
    },
    {
     "data": {
      "image/png": "[encoded data removed]",
      "text/plain": [
       "<matplotlib.figure.Figure at 0x7f425efafef0>"
      ]
     },
     "metadata": {},
     "output_type": "display_data"
    }
   ],
   "source": [
    "adolescents_analysis.adolescents_feel_vs_cocaine_usage()"
   ]
  },
  {
   "cell_type": "code",
   "execution_count": null,
   "metadata": {
    "collapsed": false
   },
   "outputs": [],
   "source": []
  },
  {
   "cell_type": "code",
   "execution_count": null,
   "metadata": {
    "collapsed": false
   },
   "outputs": [],
   "source": []
  },
  {
   "cell_type": "code",
   "execution_count": null,
   "metadata": {
    "collapsed": true
   },
   "outputs": [],
   "source": []
  }
 ],
 "metadata": {
  "kernelspec": {
   "display_name": "Python 3",
   "language": "python",
   "name": "python3"
  },
  "language_info": {
   "codemirror_mode": {
    "name": "ipython",
    "version": 3
   },
   "file_extension": ".py",
   "mimetype": "text/x-python",
   "name": "python",
   "nbconvert_exporter": "python",
   "pygments_lexer": "ipython3",
   "version": "3.5.3"
  }
 },
 "nbformat": 4,
 "nbformat_minor": 0
}
